{
 "cells": [
  {
   "cell_type": "markdown",
   "metadata": {},
   "source": [
    "# <font color=blue>Нюансы передачи аргументов в функцию</font>\n",
    "\n",
    "## <font color=green>Термин \"сигнатура функции\"</font>\n",
    "\n",
    "В Python **сигнатура функции** включает в себя: \n",
    "\n",
    "- описание параметров функции (их количество, порядок, значения по умолчанию);\n",
    "\n",
    "- аннотацию типов параметров функции и ее возвращаемого значения.\n",
    "\n",
    "Сигнатура задается при определении функции.\n",
    "```python\n",
    "def f(a, b):\n",
    "    return a + b\n",
    "```\n",
    "Например функция `f()` принимает на вход 2 аргумента. **Вопрос аннотации типов пока не будем разбирать.** \n",
    "\n",
    "С помощью функции `inspect.signature()` можно посмотреть сигнатуру."
   ]
  },
  {
   "cell_type": "code",
   "execution_count": 1,
   "metadata": {},
   "outputs": [
    {
     "name": "stdout",
     "output_type": "stream",
     "text": [
      "(x, y, *args, name='John', **kwargs)\n"
     ]
    }
   ],
   "source": [
    "from inspect import signature\n",
    "\n",
    "def f(x, y, *args, name='John', **kwargs):\n",
    "    return None\n",
    "\n",
    "sig = signature(f)\n",
    "print(sig)"
   ]
  },
  {
   "cell_type": "markdown",
   "metadata": {},
   "source": [
    "Про термин \"сигнатура функции\" применительно к другим языкам программирования можно прочесть в [википедии](https://ru.wikipedia.org/wiki/API#%D0%A1%D0%B8%D0%B3%D0%BD%D0%B0%D1%82%D1%83%D1%80%D0%B0_%D1%84%D1%83%D0%BD%D0%BA%D1%86%D0%B8%D0%B8).\n",
    "\n",
    "## <font color=green>Обязательные и необязательные аргументы</font>\n",
    "\n",
    "Для параметров функции можно задать значения по умолчанию. Тогда те параметры функции, у которых есть значения по умолчанию, можно не передавать при вызове функции.\n",
    "\n",
    "### Пример 1. Значения по умолчанию у параметров функции."
   ]
  },
  {
   "cell_type": "code",
   "execution_count": 2,
   "metadata": {},
   "outputs": [
    {
     "name": "stdout",
     "output_type": "stream",
     "text": [
      "Hello, Mary!\n",
      "Hey, John!\n"
     ]
    }
   ],
   "source": [
    "def greet(name, greeting=\"Hello\"):\n",
    "    print(\"{}, {}!\".format(greeting, name))\n",
    "\n",
    "greet(\"Mary\")\n",
    "greet(\"John\", \"Hey\")"
   ]
  },
  {
   "cell_type": "markdown",
   "metadata": {},
   "source": [
    "**Обязательные аргументы** -- аргументы без значения по умолчанию.\n",
    "\n",
    "**Необязательные аргументы** -- аргументы со значением по умолчанию.\n",
    "\n",
    "### Пример 2. Встроенные функции и функции из стандартной библиотеки, у которых есть необязательные аргументы."
   ]
  },
  {
   "cell_type": "code",
   "execution_count": null,
   "metadata": {},
   "outputs": [],
   "source": [
    "print(1, 2, 3, 4, sep=',')  # `sep` -- необязательный аргумент\n",
    "print('a', end=' ')  # `end` -- необязательный аргумент\n",
    "print('b', end='|')\n",
    "print('c', end=';')"
   ]
  },
  {
   "cell_type": "code",
   "execution_count": null,
   "metadata": {},
   "outputs": [],
   "source": [
    "# Документация функции `print()`\n",
    "# Перечислены все аргументы и значения \n",
    "# по умолчанию необязательных аргументов.\n",
    "print(help(print))"
   ]
  },
  {
   "cell_type": "code",
   "execution_count": null,
   "metadata": {},
   "outputs": [],
   "source": [
    "# Оба аргумента метода `str.split()` необязательные.\n",
    "print(help(str.split))"
   ]
  },
  {
   "cell_type": "markdown",
   "metadata": {},
   "source": [
    "#### Зачем нужны необязательные аргументы.\n",
    "\n",
    "1. У функции может быть очень много параметров. Хороший пример -- [`plot()`](https://matplotlib.org/3.1.1/api/_as_gen/matplotlib.pyplot.plot.html) из библиотеки `matplotlib`. В таких случаях почти все аргументы делают необязательными, что сильно облегчает работу.\n",
    "\n",
    "2. Встречаются параметры функций, у которых на практике почти всегда одно и тоже значение. Например, параметр `end` функции `print()` чаще всего отвечает за переход на следующую строку, поэтому удобно, если у `end` значение по умолчанию `'\\n'`."
   ]
  },
  {
   "cell_type": "markdown",
   "metadata": {},
   "source": [
    "## <font color=green>Позиционные и именованные аргументы</font>\n",
    "\n",
    "Рассмотрим вызов функции `print()`.\n",
    "```python\n",
    "print(1, 2, sep='  ', end=';')\n",
    "```\n",
    "При вызове аргументы `print()` делятся на 2 группы: позиционные (`1` и `2`) и именованные (`'  '` и `';'`). Позиционные аргументы распределяются по локальным переменным в соответствии с их местом в скобках. Именованные аргументы попадают в переменные с соответствующими именами.\n",
    "\n",
    "### Пример 3. Позиционные и именованные аргументы"
   ]
  },
  {
   "cell_type": "code",
   "execution_count": null,
   "metadata": {},
   "outputs": [],
   "source": [
    "def f(a, b):\n",
    "    print(\"a:\", a)\n",
    "    print(\"b:\", b)"
   ]
  },
  {
   "cell_type": "code",
   "execution_count": null,
   "metadata": {},
   "outputs": [],
   "source": [
    "f(1, 2)"
   ]
  },
  {
   "cell_type": "code",
   "execution_count": null,
   "metadata": {},
   "outputs": [],
   "source": [
    "f(3, b=4)"
   ]
  },
  {
   "cell_type": "code",
   "execution_count": null,
   "metadata": {},
   "outputs": [],
   "source": [
    "f(a=5, b=6)"
   ]
  },
  {
   "cell_type": "code",
   "execution_count": null,
   "metadata": {},
   "outputs": [],
   "source": [
    "f(b=8, a=7)"
   ]
  },
  {
   "cell_type": "markdown",
   "metadata": {},
   "source": [
    "Можно выбрать, сколько аргументов будут позиционными, а сколько -- именованными. При этом должно соблюдаться правило: **именованные аргументы указываются после позиционных**.\n",
    "\n",
    "### Пример 4. Как нельзя использовать именованные аргументы"
   ]
  },
  {
   "cell_type": "code",
   "execution_count": null,
   "metadata": {},
   "outputs": [],
   "source": [
    "# Не работает, так как сразу 2 значения попадают в переменную `a`.\n",
    "f(1, a=1)"
   ]
  },
  {
   "cell_type": "code",
   "execution_count": null,
   "metadata": {},
   "outputs": [],
   "source": [
    "# Не работает, так как именованный аргумент указан до позиционного.\n",
    "f(a=1, 2)"
   ]
  },
  {
   "cell_type": "markdown",
   "metadata": {},
   "source": [
    "#### Зачем нужны именованные аргументы\n",
    "\n",
    "1. Именованные аргументы можно указывать в любом порядке.\n",
    "\n",
    "Поэтому именованные аргументы незаменимы в функциях, у которых много параметров.\n",
    "\n",
    "## <font color=green>Функции, принимающие на вход любое количество позиционных аргументов</font>\n",
    "\n",
    "### Пример 5\n",
    "\n",
    "Все аргументы попадают в кортеж `args`. "
   ]
  },
  {
   "cell_type": "code",
   "execution_count": null,
   "metadata": {},
   "outputs": [],
   "source": [
    "def f(*args):\n",
    "    print(\"Function arguments:\", args, type(args))\n",
    "\n",
    "f(1, 2)\n",
    "f(0)\n",
    "f(\"a\", 1, 21, \"abcd\", 8)\n",
    "f()"
   ]
  },
  {
   "cell_type": "markdown",
   "metadata": {},
   "source": [
    "Если в **сигнатуре** функции перед последним параметром, у которого нет значения по умолчанию, стоит звездочка, то в функцию можно передать любое количество позиционных аргументов. \n",
    "\n",
    "Сначала заполняются параметры без звездочки, а все, что осталось, попадает в кортеж `args`.\n",
    "\n",
    "### Пример 6\n",
    "\n",
    "Первый аргумент функции `my_sum()` попадет в `a`, а остальные -- в `args`. У `my_sum()` 1 обязательный аргумент -- `a`.  Кортеж `args` можно оставлять пустым."
   ]
  },
  {
   "cell_type": "code",
   "execution_count": 5,
   "metadata": {},
   "outputs": [
    {
     "name": "stdout",
     "output_type": "stream",
     "text": [
      "6\n",
      "6\n"
     ]
    }
   ],
   "source": [
    "def my_sum(a, *args):\n",
    "    \"\"\"Возвращает сумму элементов `a`, если\n",
    "    на вход подан 1 аргумент. В противном \n",
    "    случае возвращает сумму всех аргументов.\n",
    "    \n",
    "    Args:\n",
    "        a: (1)объект перечисляемого типа \n",
    "            (список, кортеж, множество, \n",
    "            итератор и т.д.), содержащий \n",
    "            числа, или\n",
    "            (2)число.\n",
    "        args: числа.\n",
    "    Returns:\n",
    "        число.\n",
    "    \"\"\"\n",
    "    if len(args):\n",
    "        return sum(args) + a\n",
    "    return sum(a)\n",
    "\n",
    "\n",
    "print(my_sum([1, 2, 3]))\n",
    "print(my_sum(1, 2, 3))"
   ]
  },
  {
   "cell_type": "markdown",
   "metadata": {},
   "source": [
    "Слово `args` -- это просто общепринятый способ обозначать параметр со звездочкой. Вместо `args` можно использовать любой идентификатор."
   ]
  },
  {
   "cell_type": "code",
   "execution_count": 3,
   "metadata": {},
   "outputs": [
    {
     "name": "stdout",
     "output_type": "stream",
     "text": [
      "(1, 2)\n"
     ]
    }
   ],
   "source": [
    "def f(*a):\n",
    "    print(a)\n",
    "\n",
    "f(1, 2)"
   ]
  },
  {
   "cell_type": "markdown",
   "metadata": {},
   "source": [
    "Параметры со значениями по умолчанию пишут после `*args`.\n",
    "\n",
    "### Пример 7. Функция с `*args`  и параметром, у которого есть значение по умолчанию\n",
    "\n",
    ">В Python ключ сортировки -- функция, чьи значения используется для сравнения элементов. Ключ принимает на вход один аргумент -- элемент сортируемой последовательности.<br>\n",
    "<br>\n",
    "**Пример: сортировка чисел по их модулю**\n",
    "```python\n",
    ">>> sorted([-3, -2, -1, 0, 1, 2, 3], key=abs)\n",
    "[0, -1, 1, -2, 2, -3, 3]\n",
    "```\n",
    "Документация к встроенным функциям `sorted()` и `abs()` доступна по [ссылке](https://docs.python.org/3/library/functions.html)."
   ]
  },
  {
   "cell_type": "code",
   "execution_count": null,
   "metadata": {},
   "outputs": [],
   "source": [
    "def my_nsmallest(n, *args, key=None):\n",
    "    \"\"\"Возвращает `n` первых элементов последовательности,\n",
    "    отсортированных по возрастанию в соответствии с ключом\n",
    "    `key`. В сортируемая последовательность состоит из \n",
    "    позиционных аргументов, указаных после `n`.\n",
    "    \n",
    "    Args:\n",
    "        n: целое неотрицательное число.\n",
    "        args: объекты, которые может обработать функция\n",
    "            `key`.\n",
    "        key: функция, которая служит ключом сортировки. \n",
    "            Если `None`, то `key` возвращает поданный на \n",
    "            вход элемент.\n",
    "    Returns:\n",
    "        список из `n` наименьших элементов `args`.\n",
    "    \"\"\"\n",
    "    # Функция `sorted()` сортирует последовательность по \n",
    "    # возрастанию в соответствии с ключом `key`.\n",
    "    sorted_args = sorted(args, key=key)\n",
    "    return sorted_args[:n]"
   ]
  },
  {
   "cell_type": "code",
   "execution_count": null,
   "metadata": {},
   "outputs": [],
   "source": [
    "print(my_nsmallest(3, 4, -2, 5, -6, 7, 8))"
   ]
  },
  {
   "cell_type": "code",
   "execution_count": null,
   "metadata": {},
   "outputs": [],
   "source": [
    "def key(x):\n",
    "    return -x\n",
    "\n",
    "print(my_nsmallest(3, 4, -2, 5, -6, 7, 8, key=key))"
   ]
  },
  {
   "cell_type": "code",
   "execution_count": null,
   "metadata": {},
   "outputs": [],
   "source": [
    "def key(x):\n",
    "    return len(x)\n",
    " \n",
    "# Сортировка по длине\n",
    "print(my_nsmallest(2, [3, 2, 1], ['a', 'b'], [], 'cdef', key=key))"
   ]
  },
  {
   "cell_type": "code",
   "execution_count": null,
   "metadata": {},
   "outputs": [],
   "source": [
    "# В качестве `key` удобно использовать анонимную функцию.\n",
    "# Анонимная функция -- это функция, определенная с помощью\n",
    "# ключевого слова `lambda`. Такие функции состоят из одного \n",
    "# выражения.\n",
    "#\n",
    "# Синтаксис\n",
    "# 1. После слова `lambda` перечисляются аргументы.\n",
    "# 2. После двоеточия пишется возвращаемое значение.\n",
    "#\n",
    "# Анонимные функции -- одноразовые функции для решения \n",
    "# локальных задач.\n",
    "\n",
    "def f(x):\n",
    "    return x**2\n",
    "\n",
    "g = lambda x: x**2\n",
    "# Функции `f()` и `g()` делают одно и то же.\n",
    "print(f(-2), g(-2))"
   ]
  },
  {
   "cell_type": "code",
   "execution_count": null,
   "metadata": {},
   "outputs": [],
   "source": [
    "a = [2, 1, 3]\n",
    "print(sorted(a))\n",
    "# Сортировка по убыванию\n",
    "print(sorted(a, key=lambda x: -x))"
   ]
  },
  {
   "cell_type": "code",
   "execution_count": null,
   "metadata": {},
   "outputs": [],
   "source": [
    "# Сортировка по убыванию длины.\n",
    "print(\n",
    "    my_nsmallest(\n",
    "        2, \n",
    "        [3, 2, 1], \n",
    "        ['a', 'b'], \n",
    "        [], \n",
    "        'cdef', \n",
    "        key=lambda x: -len(x)\n",
    "    )\n",
    ")"
   ]
  },
  {
   "cell_type": "markdown",
   "metadata": {},
   "source": [
    "### Правила использования `*args`\n",
    "\n",
    "1. В сигнатуре функции может быть только 1 параметр со звездочкой.\n",
    "- Параметр `*args` ставится после параметров без значений по умолчанию и до параметров со значениями по умолчанию.\n",
    "- `args` можно оставлять пустым.\n",
    "- Если в сигнатуре функции есть `*args`, то все обязательные аргументы будут позиционными, а все необязательные -- именованными. В примере 6 **нельзя** передать `n` именованным, а `key` **нельзя** передать позиционным.\n",
    "\n",
    "### <font color=darkred>Упражнение 1. Перемножение аргументов</font>\n",
    "\n",
    "Напишите функцию `prod()`, возвращающую произведение своих аргументов.\n",
    "\n",
    "#### Примеры использования:\n",
    "```python\n",
    ">>> prod(1, 2)\n",
    "2\n",
    ">>> prod(1, -2, 3, -4)\n",
    "24\n",
    ">>> prod(0, 0, 0, 0, 0)\n",
    "0\n",
    "```"
   ]
  },
  {
   "cell_type": "code",
   "execution_count": 3,
   "metadata": {},
   "outputs": [
    {
     "name": "stdout",
     "output_type": "stream",
     "text": [
      "24\n"
     ]
    }
   ],
   "source": [
    "def prod(a, *args):\n",
    "    p = a\n",
    "    for i in range(len(args)):\n",
    "        p = p*args[i]\n",
    "    print(p)\n",
    "\n",
    "prod(1, 2, 3, 4)"
   ]
  },
  {
   "cell_type": "markdown",
   "metadata": {},
   "source": [
    "## <font color=green>Распаковка последовательности при вызове функции</font>\n",
    "\n",
    "Все элементы объекта перечисляемого типа (списка, кортежа, словаря и некоторых других) можно одновременно передать в функцию в качестве позиционных аргументов.\n",
    "\n",
    "### Пример 8. Распаковка"
   ]
  },
  {
   "cell_type": "code",
   "execution_count": null,
   "metadata": {},
   "outputs": [],
   "source": [
    "def add(a, b):\n",
    "    return a + b\n",
    "\n",
    "list_ = [1, 2]\n",
    "print(add(*list_))"
   ]
  },
  {
   "cell_type": "code",
   "execution_count": 7,
   "metadata": {},
   "outputs": [
    {
     "name": "stdout",
     "output_type": "stream",
     "text": [
      "a,b,c,d\n",
      "f o o b a r\n",
      "f-o-o-b-a-r-----a-b-c-d\n",
      "\n"
     ]
    }
   ],
   "source": [
    "def my_str_join(*args, sep=' '):\n",
    "    \"\"\"Возвращает строку, полученную соединением `args`\n",
    "    через разделитель `sep`.\n",
    "    \n",
    "    Args:\n",
    "        args: строки,\n",
    "        sep: строка.\n",
    "    Returns:\n",
    "        строка.\n",
    "    \"\"\"\n",
    "    # Метод `str.join()` объединяет строки через разделитель `sep`\n",
    "    # `str.join()` принимает на вход последовательность строк.   \n",
    "    return sep.join(args)\n",
    "\n",
    "\n",
    "s0 = \"abcd\"\n",
    "\n",
    "s1 = my_str_join(*s0, sep=',')\n",
    "s2 = my_str_join(*\"foobar\", sep=' ')\n",
    "s3 = my_str_join(*\"foobar--\", *s0, sep='-')\n",
    "s4 = my_str_join(*[])\n",
    "\n",
    "print(s1)\n",
    "print(s2)\n",
    "print(s3)\n",
    "print(s4)"
   ]
  },
  {
   "cell_type": "markdown",
   "metadata": {},
   "source": [
    "Не путайте звездочку в сигнатуре функции со звездочкой при вызове функции. Первая указывает, что функция принимает произвольное число позиционных параметров, а вторая распаковывает последовательность.\n",
    "\n",
    "### Как пользоваться распаковкой последовательности.\n",
    "\n",
    "1. Распаковка последовательности указывается до именованных аргументов.\n",
    "\n",
    "- Распаковка последовательности работает только при вызове функции. Ее нельзя использовать в квадратных скобках, фигурных скобках или при инициализации кортежа с помощью синтаксиса\n",
    "```python\n",
    "t = (1, 2)\n",
    "```\n",
    "\n",
    "- Распаковываемый объект должен быть перечисляемого типа.<br>\n",
    "  >Объект `obj` перечисляемый, если его можно подставить в цикл `for`.\n",
    "```python\n",
    "for elem in obj:\n",
    "      print(elem)\n",
    "```\n",
    "\n",
    "- В одном вызове функции можно распаковать несколько последовательностей (см. пример 8, создание строки `s3`).\n",
    "\n",
    "### <font color=darkred>Упражнение 2. Распаковка последовательсностей при вызове функции</font>\n",
    "\n",
    "1. Распакуйте список `a` в функции `print()`, `prod()` из упражнения 2 и `my_sum()` из примера 6.\n",
    "\n",
    "2. Вставьте между символами строки `s` символ `@` с помощью функции `my_str_join()`.\n",
    "  >На выходе нужно получить строку `a@b@c@d@e`."
   ]
  },
  {
   "cell_type": "code",
   "execution_count": 9,
   "metadata": {},
   "outputs": [
    {
     "name": "stdout",
     "output_type": "stream",
     "text": [
      "1 2 3 4 5 6 7 8 9 10\n",
      "3628800\n",
      "55\n",
      "a@b@c@d@e\n"
     ]
    }
   ],
   "source": [
    "a = list(range(1, 11))\n",
    "\n",
    "s = \"abcde\"\n",
    "print(*a)\n",
    "prod(*a)\n",
    "print(my_sum(*a))\n",
    "print(my_str_join(*s, sep='@'))"
   ]
  },
  {
   "cell_type": "markdown",
   "metadata": {},
   "source": [
    "## <font color=green>Функции, принимающие на вход любое количество именованных аргументов</font>\n",
    "\n",
    "Такую функцию можно создать, указав в сигнатуре функции аргумент с двумя звездочками.\n",
    "\n",
    "### Пример 9"
   ]
  },
  {
   "cell_type": "code",
   "execution_count": null,
   "metadata": {},
   "outputs": [],
   "source": [
    "def f(**kwargs):\n",
    "    print(\"Function arguments:\", kwargs, type(kwargs))\n",
    "\n",
    "f(a=1, b=2)\n",
    "f()\n",
    "f(first_name='Donald', last_name='Trump')"
   ]
  },
  {
   "cell_type": "markdown",
   "metadata": {},
   "source": [
    "### Правила использования `**kwargs`\n",
    "\n",
    "1. В сигнатуре функции `**kwargs` -- последний из параметров.\n",
    "\n",
    "2. Может быть только 1 параметр с 2-мя звездочками.\n",
    "\n",
    "3. В словарь `kwargs` попадают все именованные аргументы, не прописанные в сигнатуре функции.\n",
    "\n",
    "4. При вызове функции именованные аргументы, прописанные в сигнатуре, можно переставлять местами с именованными аргументами, которые попадают в `kwargs`.\n",
    "\n",
    "### Пример 10"
   ]
  },
  {
   "cell_type": "code",
   "execution_count": null,
   "metadata": {},
   "outputs": [],
   "source": [
    "def f(a, b, *args, name=\"Donald\", **kwargs):\n",
    "    print(\"a:\", a)\n",
    "    print(\"b:\", b)\n",
    "    print(\"args:\", args)\n",
    "    print(\"name:\", name)\n",
    "    print(\"kwargs:\", kwargs)\n",
    "    print()\n",
    "\n",
    "f(1, 2, 3, 4)\n",
    "f(1, 2, 3, surname=\"Trump\")\n",
    "f(1, 2, surname=\"Obama\", name=\"Barak\")"
   ]
  },
  {
   "cell_type": "markdown",
   "metadata": {},
   "source": [
    "### <font color=darkred>Упражнение 3</font>\n",
    "\n",
    "Напишите функцию `add_items()`, добавляющую в словарь несколько элементов.\n",
    "\n",
    ">Перебрать элементы словаря можно с помощью метода `dict.items()`.\n",
    "```python\n",
    "d = {'a': 1, 'b': 2}\n",
    "for key, value in d.items():\n",
    "    print(key, value)\n",
    " ```\n",
    "\n",
    "#### Примеры использования `add_items()`\n",
    "\n",
    "```python\n",
    ">>> d = {}\n",
    ">>> add_items(d, a=1, b=2)\n",
    ">>> d\n",
    "{'a': 1, 'b': 2}\n",
    ">>> add_items(d, name=\"John\")\n",
    ">>> d\n",
    "{'a': 1, 'b': 2, 'name': 'John'}\n",
    "```\n",
    "\n"
   ]
  },
  {
   "cell_type": "code",
   "execution_count": 21,
   "metadata": {},
   "outputs": [
    {
     "name": "stdout",
     "output_type": "stream",
     "text": [
      "{'a': 1, 'b': 2}\n"
     ]
    }
   ],
   "source": [
    "def add_items(d, **kwargs):\n",
    "    for key, value in kwargs.items():\n",
    "        d[key] = value\n",
    "d = {}\n",
    "add_items(d, a=1, b=2)\n",
    "print(d)"
   ]
  },
  {
   "cell_type": "markdown",
   "metadata": {},
   "source": [
    "##  <font color=green>Распаковка словаря при вызове функции</font>\n",
    "\n",
    "Если перед словарем, передаваемым в функцию, поставить 2 звездочки, то элементы словаря станут именованными аргументами функции. При этом ключи словаря будут именами аргументов, а значения элементов словаря -- значениями аргументов.\n",
    "\n",
    "\n",
    "### Пример 11"
   ]
  },
  {
   "cell_type": "code",
   "execution_count": null,
   "metadata": {},
   "outputs": [],
   "source": [
    "def f(a, b, c, d):\n",
    "    print(\"a:\", a)\n",
    "    print(\"b:\", b)\n",
    "    print(\"c:\", c)\n",
    "    print(\"d:\", d)\n",
    "\n",
    "dict_1 = {'a': 1, 'c': 3}\n",
    "dict_2 = {'b': 2, 'd': 4}\n",
    "\n",
    "f(**dict_1, **dict_2)"
   ]
  },
  {
   "cell_type": "markdown",
   "metadata": {},
   "source": [
    "### Как пользоваться распаковкой словаря\n",
    "\n",
    "1. Распаковка словаря должна указываться после позиционных аргументов.\n",
    "\n",
    "- Распаковка словаря работает только при вызове функции. Она не работает в фигурных скобках.\n",
    "\n",
    "- Ключи словаря должны быть строками.\n",
    "\n",
    "- В одном вызове функции можно распаковать несколько словарей.\n",
    "\n",
    "- Ключи словаря не должны совпадать с именами других аргументов функции.\n",
    "\n",
    "### <font color=darkred>Упражнение 4. Распаковка словаря</font>\n",
    "\n",
    "1. Распакуйте список `a` и словарь `config` в вызове функции `print()`.\n",
    "\n",
    "- Распакуйте список `b` и словарь `config` в вызове функции `print()`.\n",
    "\n",
    "- Вызовите метод `str.format()` от переменной `tmpl`. При этом распакуйте словарь `personal_card`. Распечатайте полученную строку.\n",
    "```python\n",
    "s = tmpl.format(**personal_card)\n",
    "```\n"
   ]
  },
  {
   "cell_type": "code",
   "execution_count": null,
   "metadata": {},
   "outputs": [],
   "source": [
    "config = {'sep': ', ', 'end': ';\\n'}\n",
    "a = [1, 2, 3]\n",
    "b = [4, 5]\n",
    "\n",
    "tmpl = \"Name: {first_name}\\nSurname: {second_name}\\n\"\n",
    "personal_card = {\n",
    "    \"first_name\": \"John\",\n",
    "    \"second_name\": \"Smith\"\n",
    "}\n",
    "\n",
    "print(*a, **config)\n",
    "print(*b, **config)\n"
   ]
  },
  {
   "cell_type": "markdown",
   "metadata": {},
   "source": [
    "## <font color=green>Наложение ограничений на способы передачи аргументов в функцию</font>\n",
    "\n",
    "Если в сигнатуре вместо одного из параметров стоит звездочка, то все параметры после звездочки могут быть только именованными."
   ]
  },
  {
   "cell_type": "code",
   "execution_count": null,
   "metadata": {},
   "outputs": [],
   "source": [
    "def f(a, *, b):\n",
    "    print(a, b)\n",
    "    \n",
    "f(1, b=2)  # OK\n",
    "f(a=1, b=2)  # OK"
   ]
  },
  {
   "cell_type": "code",
   "execution_count": null,
   "metadata": {},
   "outputs": [],
   "source": [
    "f(1, 2)  # Error"
   ]
  },
  {
   "cell_type": "markdown",
   "metadata": {},
   "source": [
    "2. Если в сигнатуре вместо одного из параметров стоит слеш `/`, то все параметры до слеша передаются только как позиционные. \n",
    "\n",
    "**Писать такие функции можно только, если у Вас Python 3.8 или выше.**\n",
    "\n",
    "Слеш можно встретить в документации к некоторым функциям. Наличие таких ограничений связано с тем, что функция реализована на языке C, а C не поддерживает именованные аргументы. "
   ]
  },
  {
   "cell_type": "code",
   "execution_count": null,
   "metadata": {},
   "outputs": [],
   "source": [
    "def f(a, /, b=3):\n",
    "    print(a, b)\n",
    "\n",
    "f(a=1, b=2)  # Error"
   ]
  },
  {
   "cell_type": "markdown",
   "metadata": {},
   "source": [
    "Примеры функций с одинокой звездочкой в сигнатуре: [`max()`](https://docs.python.org/3/library/functions.html#max), [`os.open()`](https://docs.python.org/3/library/os.html#os.open).\n",
    "\n",
    "Пример функции со слешем в сигнатуре: [`pow()`](https://docs.python.org/3/library/functions.html#pow)."
   ]
  },
  {
   "cell_type": "code",
   "execution_count": null,
   "metadata": {},
   "outputs": [],
   "source": [
    "from inspect import signature\n",
    "\n",
    "print(signature(pow))"
   ]
  }
 ],
 "metadata": {
  "kernelspec": {
   "display_name": "Python 3",
   "language": "python",
   "name": "python3"
  },
  "language_info": {
   "codemirror_mode": {
    "name": "ipython",
    "version": 3
   },
   "file_extension": ".py",
   "mimetype": "text/x-python",
   "name": "python",
   "nbconvert_exporter": "python",
   "pygments_lexer": "ipython3",
   "version": "3.6.8"
  }
 },
 "nbformat": 4,
 "nbformat_minor": 2
}
