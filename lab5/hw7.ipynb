{
 "cells": [
  {
   "cell_type": "markdown",
   "metadata": {},
   "source": [
    "### <font color=darkred>Упражнение 1. Векторное произведение</font>\n",
    "\n",
    "Перегрузите оператор `@` так, чтобы при его применении к экземплярам класса `Vector` вычислялось векторное произведение. \n",
    "\n",
    "#### Пример использования оператора `@`:\n",
    "```python\n",
    ">>> v1 = Vector(1, 0, 0)\n",
    ">>> v2 = Vector(0, 1, 0)\n",
    ">>> v3 = v1 @ v2\n",
    ">>> print(v3)\n",
    "<0, 0, 1>\n",
    ">>> v4 = v2 @ v1\n",
    ">>> print(v4)\n",
    "<0, 0, -1>\n",
    "```"
   ]
  },
  {
   "cell_type": "code",
   "execution_count": 7,
   "metadata": {},
   "outputs": [],
   "source": [
    "class Vector:\n",
    "    def __init__(self, x, y, z):\n",
    "        self.x = x\n",
    "        self.y = y\n",
    "        self.z = z\n",
    "    \n",
    "    def __str__(self):\n",
    "        # f-строки поддерживаются, начиная с Python версии 3.6.\n",
    "        # Если у Вас версия Python < 3.6 используйте\n",
    "        # метод `str.format()`.\n",
    "        s = f\"<{self.x}, {self.y}, {self.z}>\"\n",
    "        # s = \"<{}, {}, {}>\".format(self.x, self.y, self.z)\n",
    "        return s\n",
    "    def __matmul__(self,other):\n",
    "        return Vector(self.y*other.z - other.y*self.z, other.x*self.z - other.z*self.x, self.y*other.y - self.y*other.y)"
   ]
  },
  {
   "cell_type": "code",
   "execution_count": 8,
   "metadata": {},
   "outputs": [
    {
     "name": "stdout",
     "output_type": "stream",
     "text": [
      "<0, 0, 0>\n"
     ]
    }
   ],
   "source": [
    "v1 = Vector(1, 1, 1)\n",
    "v2 = Vector(2, 2, 2)\n",
    "print(v1 @ v2)"
   ]
  },
  {
   "cell_type": "markdown",
   "metadata": {},
   "source": [
    "# <font color=blue>Операторы `()`, `[]`</font>\n",
    "\n",
    "## <font color=green>Как сделать экземпляры класса вызываемыми</font>\n",
    "\n",
    "Если у класса есть метод `__call__()`, то объекты этого класса можно вызывать, как функции. \n",
    "\n",
    "### Пример 1"
   ]
  },
  {
   "cell_type": "code",
   "execution_count": 28,
   "metadata": {},
   "outputs": [
    {
     "name": "stdout",
     "output_type": "stream",
     "text": [
      "You called me with arguments 1 2!\n"
     ]
    }
   ],
   "source": [
    "class CallOpOverload:\n",
    "    def __call__(self, x, y):\n",
    "        print(\"You called me with arguments {} {}!\".format(x, y))\n",
    "        \n",
    "obj = CallOpOverload()\n",
    "obj(1, 2)"
   ]
  },
  {
   "cell_type": "markdown",
   "metadata": {},
   "source": [
    "Функции и методы -- это еще 2 типа объектов, у которых есть метод `__call__()`. У метода `__call__()` тоже есть метод `__call__()`. И так до бесконечности."
   ]
  },
  {
   "cell_type": "code",
   "execution_count": 29,
   "metadata": {},
   "outputs": [
    {
     "name": "stdout",
     "output_type": "stream",
     "text": [
      "<method-wrapper '__call__' of function object at 0x7fd369ecae18>\n",
      "<method-wrapper '__call__' of method-wrapper object at 0x7fd369eeb470>\n"
     ]
    }
   ],
   "source": [
    "def f(x):\n",
    "    print(\"x:\", x)\n",
    "\n",
    "print(f.__call__)\n",
    "print(f.__call__.__call__)"
   ]
  },
  {
   "cell_type": "code",
   "execution_count": null,
   "metadata": {
    "scrolled": true
   },
   "outputs": [],
   "source": [
    "f.__call__.__call__(1)"
   ]
  },
  {
   "cell_type": "markdown",
   "metadata": {},
   "source": [
    "## <font color=green>Как сделать экземпляры класса индексируемыми</font>\n",
    "\n",
    "Можно создать класс, чьи экземпляры будут индексируемыми, то есть будет возможность доступа к данным с помощью квадратных скобок `[]`. Иначе говоря, можно имитировать список или словарь. Оператор `[]` настраивается с помощью методов `__setitem__()`, `__getitem__()` и `__delitem__()`.\n",
    "\n",
    "1. Метод `__setitem__(self, key, value)` присваивает новое значение элементу. Вызывается, если квадратные скобки стоят слева от оператора присваивания.\n",
    "```python\n",
    "obj[key] = value\n",
    "```\n",
    "\n",
    "- Метод `__getitem__(self, key)` возвращает значение элемента. Вызывается при получении значения элемента: элемент справа от оператора присваивания, элемент в качестве аргумента функции или операнда.\n",
    "```python\n",
    "s = 2 + obj[key]\n",
    "print(obj[key])\n",
    "```\n",
    "\n",
    "- Метод `__delitem__(self, key)` удаляет элемент. Вызывается, если элемент стоит после слова `del`.\n",
    "```python\n",
    "del obj[key]\n",
    "```\n",
    "\n",
    "### Пример 2. Имитация списка"
   ]
  },
  {
   "cell_type": "code",
   "execution_count": 22,
   "metadata": {},
   "outputs": [
    {
     "name": "stdout",
     "output_type": "stream",
     "text": [
      "[1, 2, 3]\n",
      "[10, 2, 3]\n",
      "[10, 10]\n",
      "10\n"
     ]
    }
   ],
   "source": [
    "class ListImitation:\n",
    "    def __init__(self, data_init):\n",
    "        self._data = list(data_init)\n",
    "    \n",
    "    def __setitem__(self, key, value):\n",
    "        self._data[key] = value\n",
    "    \n",
    "    def __getitem__(self, key):\n",
    "        return self._data[key]\n",
    "    \n",
    "    def __delitem__(self, key):\n",
    "        del self._data[key]\n",
    "    \n",
    "    def __str__(self):\n",
    "        return str(self._data)\n",
    "\n",
    "\n",
    "li = ListImitation((1, 2, 3))\n",
    "print(li)\n",
    "li[0] = 10\n",
    "print(li)\n",
    "del li[1]\n",
    "li[1] = 10\n",
    "print(li)\n",
    "print(li[-1])"
   ]
  },
  {
   "cell_type": "markdown",
   "metadata": {},
   "source": [
    "### Пример 3. Имитация словаря"
   ]
  },
  {
   "cell_type": "code",
   "execution_count": 21,
   "metadata": {},
   "outputs": [
    {
     "name": "stdout",
     "output_type": "stream",
     "text": [
      "{'a': 'b', (1, 2): 3, 'foo': 'bar'}\n",
      "{'a': 10, (1, 2): 3, 'foo': 'bar'}\n",
      "{(1, 2): 3, 'foo': 'bar', 10: 'fdjhfdjfh'}\n",
      "3\n"
     ]
    }
   ],
   "source": [
    "class DictImitation:\n",
    "    def __init__(self, data_init):\n",
    "        self._data = dict(data_init)\n",
    "    \n",
    "    def __setitem__(self, key, value):\n",
    "        self._data[key] = value\n",
    "    \n",
    "    def __getitem__(self, key):\n",
    "        return self._data[key]\n",
    "    \n",
    "    def __delitem__(self, key):\n",
    "        del self._data[key]\n",
    "    \n",
    "    def __str__(self):\n",
    "        return str(self._data)\n",
    "    \n",
    "\n",
    "di = DictImitation({'a': 'b', (1, 2): 3, 'foo': 'bar'})\n",
    "print(di)\n",
    "di['a'] = 10\n",
    "print(di)\n",
    "del di['a']\n",
    "di[10] = 'fdjhfdjfh'\n",
    "print(di)\n",
    "print(di[(1, 2)])"
   ]
  },
  {
   "cell_type": "markdown",
   "metadata": {},
   "source": [
    "### Упражнение 2. Многочлен\n",
    "\n",
    "Создайте класс `Polynomial`, имитирующий многочлен одной переменной $x$. \n",
    "\n",
    "Для объектов класса `Polynomial` должны быть определены операторы \n",
    "\n",
    "- сложения `+`, \n",
    "\n",
    "- вычитания `-`, \n",
    "\n",
    "- унарного отрицания `-` (метод `__neg__(self)`),\n",
    "\n",
    "- умножения `*`.\n",
    "\n",
    "- возведения в степень `**` (только для целых неотрицательных чисел).\n",
    "\n",
    "Конструктор должен поддерживать 2 типа входных данных: список и словарь. Если на вход подается список, то этот список содержит коэффициенты членов. Если на вход подан словарь, то ключи словаря -- степени переменной $x$, а значения -- коэффициенты при соответствующих членах.\n",
    "\n",
    "Добавьте методы:\n",
    "\n",
    "- `__str__()` для красивой печати;\n",
    "\n",
    "- `__getitem__()` для получения коэффициента (метод `__getitem__()` должен возвращать `0`, если в многочлене нет искомого слагаемого); \n",
    "\n",
    "- `__setitem__()` для добавления члена или изменения кооэффициента;\n",
    "\n",
    "- `__delitem__()` для удаления члена;\n",
    "\n",
    "- `__call__(self, value)` для вычисления многочлена при $x = \\text{value}$.\n",
    "\n",
    "\n",
    "Задокументируйте сам класс и методы `__init__()`, `__call__()`, `__getitem__()` `__pow__()`. Руководствуйтесь [PEP 257](https://www.python.org/dev/peps/pep-0257/).\n",
    "\n",
    "\n",
    "#### Примеры использования\n",
    "```python\n",
    ">>> p1 = Polynomial([2, 1])\n",
    ">>> p2 = Polynomial({0: -2, 1: 1})\n",
    ">>> print(p1)\n",
    "x + 2\n",
    ">>> print(p2)\n",
    "x - 2\n",
    ">>> print(p1 + p2)\n",
    "2*x\n",
    ">>> print(p1 - p2)\n",
    "4\n",
    ">>> print(-p1 + p2)\n",
    "-4\n",
    ">>> print(p1 * p2)\n",
    "x^2 - 4\n",
    ">>> print(p1 ** 2)\n",
    "x^2 + 4*x + 4\n",
    ">>> print(p2 ** 3)\n",
    "x^3 - 6*x^2 + 12*x - 8\n",
    ">>> print(p2 ** 0)\n",
    "1\n",
    ">>> del p1[1]\n",
    ">>> print(p1)\n",
    "2\n",
    ">>> p1[1] = -1\n",
    ">>> print(p1)\n",
    "-x + 2\n",
    ">>> print(p1[0])\n",
    "2\n",
    ">>> p3 = p1 * p2\n",
    ">>> print(p3)\n",
    "-x^2 + 4*x - 4\n",
    ">>> a = p3(0.5)\n",
    ">>> print(a)\n",
    "-2.25\n",
    ">>> p3[10]\n",
    "0\n",
    "```"
   ]
  },
  {
   "cell_type": "code",
   "execution_count": 95,
   "metadata": {},
   "outputs": [],
   "source": [
    "import copy\n",
    "class Polynomial:\n",
    "    def __init__(self, data_init):\n",
    "        if isinstance(data_init, dict):\n",
    "            self._data = dict(data_init)\n",
    "            \n",
    "        if isinstance(data_init, list):\n",
    "            new_data_init = {}\n",
    "            for i in range(len(data_init)):\n",
    "                new_data_init[i] = data_init[i]\n",
    "            self._data = dict(new_data_init)       \n",
    "    \n",
    "    def __setitem__(self, key, value):\n",
    "        self._data[key] = value\n",
    "        \n",
    "    \n",
    "    def __getitem__(self, key):\n",
    "        if key in self._data:\n",
    "            return self._data[key]\n",
    "        else:\n",
    "            return ('0')\n",
    "    \n",
    "    def __delitem__(self, key):\n",
    "        del self._data[key]\n",
    "    \n",
    "    def __str__(self):\n",
    "        result = ''\n",
    "        \n",
    "        for i in range(len(self._data) - 1, -1, -1):\n",
    "            if self._data[i] != 0:\n",
    "                if self._data[i] == 1:\n",
    "                    if i == 0:\n",
    "                        result = result + '1'\n",
    "                    elif i == 1:\n",
    "                        result = result + 'x'\n",
    "                    else:\n",
    "                        result = result  + 'x' +'^' + str(i) \n",
    "                elif self._data[i] < 0:\n",
    "                    if self._data[i] == -1:\n",
    "                        if i == 0:\n",
    "                            result = result + '-1'\n",
    "                        elif i == 1:\n",
    "                            result = result + '-x'\n",
    "                        else:\n",
    "                            result = result  + '-x' +'^' + str(i)\n",
    "                    else:\n",
    "                        if i == 1:\n",
    "                            result = result + str(-self._data[i]) + '*x'\n",
    "                        elif i == 0:\n",
    "                            result = result + str(-self._data[i])\n",
    "                        else:\n",
    "                            result = result + str(-self._data[i]) + '*x' +'^' + str(i)\n",
    "                else:\n",
    "                    if i == 1:\n",
    "                        result = result + str(self._data[i]) + '*x'\n",
    "                    elif i == 0:\n",
    "                        result = result + str(self._data[i])\n",
    "                    else:\n",
    "                        result = result + str(self._data[i]) + '*x' +'^' + str(i)\n",
    "            if i != 0 and self._data[i-1] > 0 and result != '':\n",
    "                result = result + ' + '\n",
    "            elif i != 0 and self._data[i-1] < 0 and result != '':\n",
    "                result = result + ' - '\n",
    "        return result\n",
    "\n",
    "    def __add__(self, other):\n",
    "        poly = Polynomial({})\n",
    "        for i in range(len(self._data)):\n",
    "            poly._data[i] = self._data[i] + other._data[i]\n",
    "        return poly\n",
    "            \n",
    "    def __sub__(self, other):\n",
    "        poly = Polynomial({})\n",
    "        for i in range(len(self._data)):\n",
    "            poly._data[i] = self._data[i] - other._data[i]\n",
    "        return poly\n",
    "    \n",
    "    def __mul__(self, other):\n",
    "        d = dict()\n",
    "        for i in range(len(self._data)*len(other._data)):\n",
    "            d[i] = 0\n",
    "        for k in range(len(self._data)):\n",
    "            for j in range(len(other._data)):\n",
    "                d[k+j] = d[k+j] + self._data[k]*other._data[j]\n",
    "        poly = Polynomial(d)\n",
    "        return poly\n",
    "\n",
    "    def __pow__(self, num):\n",
    "        poly = Polynomial({})\n",
    "        poly._data = copy.deepcopy(self._data)\n",
    "        for i in range(num-1):\n",
    "            poly = self*poly\n",
    "        return poly\n",
    "\n",
    "    def __neg__(self):\n",
    "        poly = Polynomial({})\n",
    "        for i in range(len(self._data)):\n",
    "            poly._data[i] = -self._data[i]\n",
    "        return poly\n",
    "\n",
    "    def __call__(self, value):\n",
    "        result = 0\n",
    "        for i in range(len(self._data)):\n",
    "            result = result + self._data[i]*(value**i)\n",
    "        return result\n"
   ]
  },
  {
   "cell_type": "code",
   "execution_count": 96,
   "metadata": {},
   "outputs": [
    {
     "name": "stdout",
     "output_type": "stream",
     "text": [
      "x + 2\n",
      "x - 2\n"
     ]
    }
   ],
   "source": [
    "p1 = Polynomial([2, 1])\n",
    "p2 = Polynomial({0: -2, 1: 1})\n",
    "print(p1)\n",
    "print(p2)"
   ]
  },
  {
   "cell_type": "code",
   "execution_count": 97,
   "metadata": {
    "scrolled": true
   },
   "outputs": [
    {
     "name": "stdout",
     "output_type": "stream",
     "text": [
      "2*x\n",
      "4\n",
      "4\n",
      "x^2 - 4\n",
      "x^2 + 4*x + 4\n",
      "x^3 - 6*x^2 + 12*x - 8\n",
      "x - 2\n",
      "x + 2\n"
     ]
    }
   ],
   "source": [
    "print(p1 + p2)\n",
    "print(p1 - p2)\n",
    "print(-p1 + p2)\n",
    "print(p1 * p2)\n",
    "print(p1 ** 2)\n",
    "print(p2 ** 3)\n",
    "print(p2 ** 0)\n",
    "print(p1)"
   ]
  },
  {
   "cell_type": "code",
   "execution_count": 98,
   "metadata": {},
   "outputs": [
    {
     "name": "stdout",
     "output_type": "stream",
     "text": [
      "x + 2\n",
      "2\n",
      "-x + 2\n",
      "2\n",
      "0\n"
     ]
    }
   ],
   "source": [
    "print(p1)\n",
    "del p1[1]\n",
    "print(p1)\n",
    "p1[1] = -1\n",
    "print(p1)\n",
    "print(p1[0])\n",
    "print(p1[10])"
   ]
  },
  {
   "cell_type": "code",
   "execution_count": 99,
   "metadata": {},
   "outputs": [
    {
     "name": "stdout",
     "output_type": "stream",
     "text": [
      "-x^2 + 4*x - 4\n",
      "-2.25\n"
     ]
    }
   ],
   "source": [
    "p3 = p1 * p2\n",
    "print(p3)\n",
    "a = p3(0.5)\n",
    "print(a)"
   ]
  },
  {
   "cell_type": "markdown",
   "metadata": {},
   "source": [
    "### Упражнение 3. Вызов методов родительских классов\n",
    "\n",
    "Из классах `A`, `B` и `C` есть методы `f()` и `g()`, причем все методы `f()` вызывают метод `g()`. \n",
    "1. Допишите в методе `C.m()` вызовы методов `A.f()`, `B.f()`, `C.f()`. \n",
    "\n",
    "2. Модифицируйте методы `A.f()` и `B.f()` так, чтобы при вызове `X.f()`, `X.f()` вызывал `X.g()` (`X` -- это `A` или `B`)."
   ]
  },
  {
   "cell_type": "code",
   "execution_count": 10,
   "metadata": {},
   "outputs": [],
   "source": [
    "class A:\n",
    "    def f(self):\n",
    "        print(\"Method `f()` in class `A`\")\n",
    "        A.g(self)\n",
    "        \n",
    "    def g(self):\n",
    "        print(\"Method `g()` in class `A`\")\n",
    "        \n",
    "\n",
    "class B(A):\n",
    "    def f(self):\n",
    "        print(\"Method `f()` in class `B`\")\n",
    "        B.g(self)\n",
    "        \n",
    "    def g(self):\n",
    "        print(\"Method `g()` in class `B`\")\n",
    "        \n",
    "\n",
    "class C(B):\n",
    "    def f(self):\n",
    "        print(\"Method `f()` in class `C`\")\n",
    "        self.g()\n",
    "        \n",
    "    def g(self):\n",
    "        print(\"Method `g()` in class `C`\")\n",
    "        \n",
    "    def m(self):\n",
    "        self.f()\n",
    "        B.f(self)\n",
    "        A.f(self)"
   ]
  },
  {
   "cell_type": "code",
   "execution_count": 11,
   "metadata": {},
   "outputs": [
    {
     "name": "stdout",
     "output_type": "stream",
     "text": [
      "Method `f()` in class `C`\n",
      "Method `g()` in class `C`\n",
      "Method `f()` in class `B`\n",
      "Method `g()` in class `B`\n",
      "Method `f()` in class `A`\n",
      "Method `g()` in class `A`\n"
     ]
    }
   ],
   "source": [
    "c = C()\n",
    "c.m()"
   ]
  },
  {
   "cell_type": "markdown",
   "metadata": {},
   "source": [
    "### Упражнение 4. Ромб смерти\n",
    "\n",
    "Из классов `A`, `B`, `C`, `D`, `E`, `F` составлен ромб сметри. Во всех классах есть метод `f()`. \n",
    "\n",
    "С помощью функции `super()` вызовите методы  `A.f()`, `B.f()`, `C.f()`, `D.f()`, `E.f()` в методе `m()`."
   ]
  },
  {
   "cell_type": "code",
   "execution_count": 12,
   "metadata": {},
   "outputs": [],
   "source": [
    "class A:\n",
    "    def f(self):\n",
    "        print(\"Method `f()` in class `A`\")\n",
    "\n",
    "\n",
    "class B(A):\n",
    "    def f(self):\n",
    "        print(\"Method `f()` in class `B`\")\n",
    "        \n",
    "\n",
    "class C(B):\n",
    "    def f(self):\n",
    "        print(\"Method `f()` in class `C`\")\n",
    "        \n",
    "        \n",
    "class D(A):\n",
    "    def f(self):\n",
    "        print(\"Method `f()` in class `D`\")\n",
    "        \n",
    "        \n",
    "class E(D):\n",
    "    def f(self):\n",
    "        print(\"Method `f()` in class `E`\")\n",
    "\n",
    "\n",
    "class F(C, E):\n",
    "    def f(self):\n",
    "        print(\"Method `f()` in class `F`\")\n",
    "        \n",
    "    def m(self):\n",
    "        super(D, self).f()\n",
    "        super(C, self).f()\n",
    "        super(F, self).f()\n",
    "        super(E, self).f()\n",
    "        super(C, self).f()\n",
    "        super(C, self).f()"
   ]
  },
  {
   "cell_type": "code",
   "execution_count": 13,
   "metadata": {},
   "outputs": [
    {
     "name": "stdout",
     "output_type": "stream",
     "text": [
      "Method `f()` in class `A`\n",
      "Method `f()` in class `D`\n"
     ]
    }
   ],
   "source": [
    "f = F()\n",
    "f.m()"
   ]
  },
  {
   "cell_type": "code",
   "execution_count": null,
   "metadata": {},
   "outputs": [],
   "source": []
  }
 ],
 "metadata": {
  "kernelspec": {
   "display_name": "Python 3",
   "language": "python",
   "name": "python3"
  },
  "language_info": {
   "codemirror_mode": {
    "name": "ipython",
    "version": 3
   },
   "file_extension": ".py",
   "mimetype": "text/x-python",
   "name": "python",
   "nbconvert_exporter": "python",
   "pygments_lexer": "ipython3",
   "version": "3.6.8"
  }
 },
 "nbformat": 4,
 "nbformat_minor": 2
}
